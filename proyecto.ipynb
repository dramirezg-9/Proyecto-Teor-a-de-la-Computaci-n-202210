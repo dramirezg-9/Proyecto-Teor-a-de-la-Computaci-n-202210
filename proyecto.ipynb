{
 "cells": [
  {
   "cell_type": "code",
   "execution_count": 27,
   "metadata": {},
   "outputs": [],
   "source": [
    "from dfa import DFA\n",
    "from dfa import symmetric_difference\n",
    "from learner import Teacher, learn\n"
   ]
  },
  {
   "cell_type": "code",
   "execution_count": 28,
   "metadata": {},
   "outputs": [],
   "source": [
    "Q = [0,1]\n",
    "\n",
    "q0 = 0\n",
    "\n",
    "F = [1]\n",
    "\n",
    "d = {0:{'0': 0, '1':1}, 1:{'0':0, '1':1}}\n",
    "\n",
    "dfa1 = DFA(Q,q0,F,d)"
   ]
  },
  {
   "cell_type": "code",
   "execution_count": 29,
   "metadata": {},
   "outputs": [],
   "source": [
    "Q = [0,1]\n",
    "\n",
    "q0 = 0\n",
    "\n",
    "F = [1]\n",
    "\n",
    "d = {0:{'0': 0, '1':1}, 1:{'0':1, '1':0}}\n",
    "\n",
    "dfa2 = DFA(Q,q0,F,d)"
   ]
  },
  {
   "cell_type": "code",
   "execution_count": 30,
   "metadata": {},
   "outputs": [],
   "source": [
    "Q = [0,1,2,3]\n",
    "\n",
    "q0 = 0\n",
    "\n",
    "F = [0,2]\n",
    "\n"
   ]
  },
  {
   "cell_type": "code",
   "execution_count": 32,
   "metadata": {},
   "outputs": [
    {
     "name": "stdout",
     "output_type": "stream",
     "text": [
      "None\n"
     ]
    }
   ],
   "source": [
    "teacher = Teacher(dfa2)\n",
    "\n",
    "x=learn(teacher)\n",
    "\n",
    "print(symmetric_difference(x,dfa2))\n"
   ]
  }
 ],
 "metadata": {
  "kernelspec": {
   "display_name": "datascience",
   "language": "python",
   "name": "datascience"
  },
  "language_info": {
   "codemirror_mode": {
    "name": "ipython",
    "version": 3
   },
   "file_extension": ".py",
   "mimetype": "text/x-python",
   "name": "python",
   "nbconvert_exporter": "python",
   "pygments_lexer": "ipython3",
   "version": "3.10.4"
  },
  "orig_nbformat": 4
 },
 "nbformat": 4,
 "nbformat_minor": 2
}
